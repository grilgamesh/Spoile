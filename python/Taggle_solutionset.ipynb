{
 "cells": [
  {
   "cell_type": "code",
   "execution_count": 1,
   "id": "de6b867a",
   "metadata": {},
   "outputs": [],
   "source": [
    "import random\n",
    "import json\n",
    "size = 100"
   ]
  },
  {
   "cell_type": "code",
   "execution_count": 2,
   "id": "804ce3c2",
   "metadata": {},
   "outputs": [],
   "source": [
    "# read in data file\n",
    "with open(f'../data/imdb_tag_game_{size}.json', 'r') as f:\n",
    "  film_dict = json.load(f)"
   ]
  },
  {
   "cell_type": "code",
   "execution_count": 3,
   "id": "4dd8e370",
   "metadata": {},
   "outputs": [],
   "source": [
    "film_array = film_dict.keys()\n",
    "solution_array = []"
   ]
  },
  {
   "cell_type": "code",
   "execution_count": 32,
   "id": "47302424",
   "metadata": {},
   "outputs": [
    {
     "data": {
      "text/plain": [
       "356"
      ]
     },
     "execution_count": 32,
     "metadata": {},
     "output_type": "execute_result"
    }
   ],
   "source": [
    "choice = random.choice(list(film_dict))\n",
    "len(film_dict[choice]['tags'])"
   ]
  },
  {
   "cell_type": "code",
   "execution_count": 42,
   "id": "668ef923",
   "metadata": {},
   "outputs": [
    {
     "name": "stdout",
     "output_type": "stream",
     "text": [
      "1\n",
      "press y to add chloe(2009) to the list: y\n",
      "2\n",
      "press y to add transformerslastknight(2017) to the list: \n",
      "2\n",
      "press y to add dogtooth(2009) to the list: \n",
      "2\n",
      "press y to add blackdeath(2010) to the list: \n",
      "2\n",
      "press y to add brick(2005) to the list: y\n",
      "3\n",
      "press y to add inabetterworld(2010) to the list: \n",
      "3\n",
      "press y to add suckerpunch(2011) to the list: \n",
      "3\n",
      "press y to add ironclad(2011) to the list: \n",
      "3\n",
      "press y to add sausageparty(2016) to the list: \n",
      "3\n",
      "3\n",
      "press y to add truelies(1994) to the list: \n",
      "3\n",
      "press y to add divide(2011) to the list: \n",
      "3\n",
      "press y to add mank(2020) to the list: \n",
      "3\n",
      "press y to add mowglilegendofjungle(2018) to the list: \n",
      "3\n",
      "3\n",
      "3\n",
      "press y to add 2012(I) (2009) to the list: y\n",
      "4\n",
      "press y to add cafesociety(2016) to the list: \n",
      "4\n",
      "4\n",
      "4\n"
     ]
    },
    {
     "ename": "KeyboardInterrupt",
     "evalue": "Interrupted by user",
     "output_type": "error",
     "traceback": [
      "\u001b[1;31m---------------------------------------------------------------------------\u001b[0m",
      "\u001b[1;31mKeyboardInterrupt\u001b[0m                         Traceback (most recent call last)",
      "\u001b[1;32m~\\AppData\\Local\\Temp/ipykernel_12328/3613190163.py\u001b[0m in \u001b[0;36m<module>\u001b[1;34m\u001b[0m\n\u001b[0;32m      6\u001b[0m         \u001b[0mchoice\u001b[0m \u001b[1;33m=\u001b[0m \u001b[0mrandom\u001b[0m\u001b[1;33m.\u001b[0m\u001b[0mchoice\u001b[0m\u001b[1;33m(\u001b[0m\u001b[0mlist\u001b[0m\u001b[1;33m(\u001b[0m\u001b[0mfilm_dict\u001b[0m\u001b[1;33m.\u001b[0m\u001b[0mkeys\u001b[0m\u001b[1;33m(\u001b[0m\u001b[1;33m)\u001b[0m\u001b[1;33m)\u001b[0m\u001b[1;33m)\u001b[0m\u001b[1;33m\u001b[0m\u001b[1;33m\u001b[0m\u001b[0m\n\u001b[0;32m      7\u001b[0m         \u001b[1;32mif\u001b[0m \u001b[1;33m(\u001b[0m\u001b[0mchoice\u001b[0m \u001b[1;32mnot\u001b[0m \u001b[1;32min\u001b[0m \u001b[0msolution_array\u001b[0m\u001b[1;33m)\u001b[0m \u001b[1;32mand\u001b[0m \u001b[1;33m(\u001b[0m\u001b[0mlen\u001b[0m\u001b[1;33m(\u001b[0m\u001b[0mfilm_dict\u001b[0m\u001b[1;33m[\u001b[0m\u001b[0mchoice\u001b[0m\u001b[1;33m]\u001b[0m\u001b[1;33m[\u001b[0m\u001b[1;34m'tags'\u001b[0m\u001b[1;33m]\u001b[0m\u001b[1;33m)\u001b[0m \u001b[1;33m>=\u001b[0m \u001b[1;36m100\u001b[0m\u001b[1;33m)\u001b[0m\u001b[1;33m:\u001b[0m\u001b[1;33m\u001b[0m\u001b[1;33m\u001b[0m\u001b[0m\n\u001b[1;32m----> 8\u001b[1;33m             \u001b[0mresponse\u001b[0m \u001b[1;33m=\u001b[0m \u001b[0minput\u001b[0m\u001b[1;33m(\u001b[0m\u001b[1;34mf\"press y to add {choice} to the list: \"\u001b[0m\u001b[1;33m)\u001b[0m\u001b[1;33m\u001b[0m\u001b[1;33m\u001b[0m\u001b[0m\n\u001b[0m\u001b[0;32m      9\u001b[0m             \u001b[1;32mif\u001b[0m \u001b[1;33m(\u001b[0m\u001b[0mresponse\u001b[0m \u001b[1;33m==\u001b[0m \u001b[1;34m'y'\u001b[0m\u001b[1;33m)\u001b[0m\u001b[1;33m:\u001b[0m\u001b[1;33m\u001b[0m\u001b[1;33m\u001b[0m\u001b[0m\n\u001b[0;32m     10\u001b[0m                 \u001b[0msolution_array\u001b[0m\u001b[1;33m.\u001b[0m\u001b[0mappend\u001b[0m\u001b[1;33m(\u001b[0m\u001b[0mchoice\u001b[0m\u001b[1;33m)\u001b[0m\u001b[1;33m\u001b[0m\u001b[1;33m\u001b[0m\u001b[0m\n",
      "\u001b[1;32m~\\anaconda3\\lib\\site-packages\\ipykernel\\kernelbase.py\u001b[0m in \u001b[0;36mraw_input\u001b[1;34m(self, prompt)\u001b[0m\n\u001b[0;32m   1004\u001b[0m                 \u001b[1;34m\"raw_input was called, but this frontend does not support input requests.\"\u001b[0m\u001b[1;33m\u001b[0m\u001b[1;33m\u001b[0m\u001b[0m\n\u001b[0;32m   1005\u001b[0m             )\n\u001b[1;32m-> 1006\u001b[1;33m         return self._input_request(\n\u001b[0m\u001b[0;32m   1007\u001b[0m             \u001b[0mstr\u001b[0m\u001b[1;33m(\u001b[0m\u001b[0mprompt\u001b[0m\u001b[1;33m)\u001b[0m\u001b[1;33m,\u001b[0m\u001b[1;33m\u001b[0m\u001b[1;33m\u001b[0m\u001b[0m\n\u001b[0;32m   1008\u001b[0m             \u001b[0mself\u001b[0m\u001b[1;33m.\u001b[0m\u001b[0m_parent_ident\u001b[0m\u001b[1;33m[\u001b[0m\u001b[1;34m\"shell\"\u001b[0m\u001b[1;33m]\u001b[0m\u001b[1;33m,\u001b[0m\u001b[1;33m\u001b[0m\u001b[1;33m\u001b[0m\u001b[0m\n",
      "\u001b[1;32m~\\anaconda3\\lib\\site-packages\\ipykernel\\kernelbase.py\u001b[0m in \u001b[0;36m_input_request\u001b[1;34m(self, prompt, ident, parent, password)\u001b[0m\n\u001b[0;32m   1049\u001b[0m             \u001b[1;32mexcept\u001b[0m \u001b[0mKeyboardInterrupt\u001b[0m\u001b[1;33m:\u001b[0m\u001b[1;33m\u001b[0m\u001b[1;33m\u001b[0m\u001b[0m\n\u001b[0;32m   1050\u001b[0m                 \u001b[1;31m# re-raise KeyboardInterrupt, to truncate traceback\u001b[0m\u001b[1;33m\u001b[0m\u001b[1;33m\u001b[0m\u001b[0m\n\u001b[1;32m-> 1051\u001b[1;33m                 \u001b[1;32mraise\u001b[0m \u001b[0mKeyboardInterrupt\u001b[0m\u001b[1;33m(\u001b[0m\u001b[1;34m\"Interrupted by user\"\u001b[0m\u001b[1;33m)\u001b[0m \u001b[1;32mfrom\u001b[0m \u001b[1;32mNone\u001b[0m\u001b[1;33m\u001b[0m\u001b[1;33m\u001b[0m\u001b[0m\n\u001b[0m\u001b[0;32m   1052\u001b[0m             \u001b[1;32mexcept\u001b[0m \u001b[0mException\u001b[0m\u001b[1;33m:\u001b[0m\u001b[1;33m\u001b[0m\u001b[1;33m\u001b[0m\u001b[0m\n\u001b[0;32m   1053\u001b[0m                 \u001b[0mself\u001b[0m\u001b[1;33m.\u001b[0m\u001b[0mlog\u001b[0m\u001b[1;33m.\u001b[0m\u001b[0mwarning\u001b[0m\u001b[1;33m(\u001b[0m\u001b[1;34m\"Invalid Message:\"\u001b[0m\u001b[1;33m,\u001b[0m \u001b[0mexc_info\u001b[0m\u001b[1;33m=\u001b[0m\u001b[1;32mTrue\u001b[0m\u001b[1;33m)\u001b[0m\u001b[1;33m\u001b[0m\u001b[1;33m\u001b[0m\u001b[0m\n",
      "\u001b[1;31mKeyboardInterrupt\u001b[0m: Interrupted by user"
     ]
    }
   ],
   "source": [
    "# generate one years' worth of films\n",
    "for i in range (0,366):\n",
    "    response = \"n\"\n",
    "    while (response != 'y'):\n",
    "        print(i+1)\n",
    "        choice = random.choice(list(film_dict.keys()))\n",
    "        if (choice not in solution_array) and (len(film_dict[choice]['tags']) >= 100):\n",
    "            response = input(f\"press y to add {choice} to the list: \")\n",
    "            if (response == 'y'):\n",
    "                solution_array.append(choice)"
   ]
  },
  {
   "cell_type": "code",
   "execution_count": 43,
   "id": "e0134702",
   "metadata": {},
   "outputs": [
    {
     "data": {
      "text/plain": [
       "['worldisnotenough(1999)',\n",
       " 'host(2013)',\n",
       " 'seabeast(2022)',\n",
       " 'x(II) (2022)',\n",
       " 'battleship(2012)',\n",
       " 'railwayman(2013)',\n",
       " 'irongiant(1999)',\n",
       " 'kungfupanda2(2011)',\n",
       " 'texaschainsawmassacre2(1986)',\n",
       " 'red(2010)',\n",
       " 'thankyouforsmoking(2005)',\n",
       " 'jarhead(2005)',\n",
       " 'alienresurrection(1997)',\n",
       " 'fastfurious7(2015)',\n",
       " 'catinhat(2003)',\n",
       " 'carrie(2013)',\n",
       " 'doctorzhivago(1965)',\n",
       " 'lookwhostalking(1989)',\n",
       " 'amonstercalls(2016)',\n",
       " 'talktoher(2002)',\n",
       " 'changinglanes(2002)',\n",
       " 'pulpfiction(1994)',\n",
       " 'simpsonsmovie(2007)',\n",
       " 'bicyclethieves(1948)',\n",
       " 'homealone3(1997)',\n",
       " 'easyrider(1969)',\n",
       " 'manhattan(1979)',\n",
       " 'hallpass(2011)',\n",
       " 'favourite(2018)',\n",
       " 'notimetodie(2021)',\n",
       " 'muppetmovie(1979)',\n",
       " 'junglebook(1967)',\n",
       " 'tron(1982)',\n",
       " 'phantomthread(2017)',\n",
       " 'dracula(1931)',\n",
       " 'enforcer(1976)',\n",
       " 'terminator2judgmentday(1991)',\n",
       " 'residentevilafterlife(2010)',\n",
       " 'nine(2009)',\n",
       " 'manofsteel(2013)',\n",
       " 'appaloosa(2008)',\n",
       " 'undersiege2darkterritory(1995)',\n",
       " 'trollhunter(2010)',\n",
       " 'jimmyneutronboygenius(2001)',\n",
       " 'daddyshome(2015)',\n",
       " 'goneinsixtyseconds(2000)',\n",
       " 'jaws2(1978)',\n",
       " 'rockyv(1990)',\n",
       " 'charade(1963)',\n",
       " 'meangirls(2004)',\n",
       " 'funnygames(2007)',\n",
       " 'sorcerersapprentice(2010)',\n",
       " 'jumper(2008)',\n",
       " 'curseofwererabbit(2005)',\n",
       " 'supermariobros(1993)',\n",
       " 'teenagemutantninjaturtlesiii(1993)',\n",
       " 'thor(2011)',\n",
       " 'outofsight(1998)',\n",
       " 'solaris(1972)',\n",
       " 'faceoff(1997)',\n",
       " 'starwarsreturnofjedi(1983)',\n",
       " 'aprophet(2009)',\n",
       " 'moana(I) (2016)',\n",
       " 'kindheartscoronets(1949)',\n",
       " 'deerhunter(1978)',\n",
       " 'meanstreets(1973)',\n",
       " 'congo(1995)',\n",
       " 'whosafraidofvirginiawoolf(1966)',\n",
       " 'beverlyhillscop(1984)',\n",
       " 'hardertheyfall(2021)',\n",
       " 'monstersvsaliens(2009)',\n",
       " 'divergent(2014)',\n",
       " 'hungergamescatchingfire(2013)',\n",
       " 'roma(2018)',\n",
       " 'poltergeist(2015)',\n",
       " 'legend(I) (2015)',\n",
       " 'donniedarko(2001)',\n",
       " 'astroboy(2009)',\n",
       " 'yourname(2016)',\n",
       " 'predators(2010)',\n",
       " 'therewillbeblood(2007)',\n",
       " 'highnoon(1952)',\n",
       " 'beowulf(2007)',\n",
       " 'lastsamurai(2003)',\n",
       " 'room(2003)',\n",
       " 'happiness(1998)',\n",
       " 'howtotrainyourdragonhiddenworld(2019)',\n",
       " 'thisboyslife(1993)',\n",
       " 'magicmike(2012)',\n",
       " 'onehourphoto(2002)',\n",
       " 'youngguns(1988)',\n",
       " 'itsamadmadmadmadworld(1963)',\n",
       " 'demolitionman(1993)',\n",
       " 'alitabattleangel(2019)',\n",
       " 'cryinggame(1992)',\n",
       " 'chloe(2009)',\n",
       " 'brick(2005)',\n",
       " '2012(I) (2009)']"
      ]
     },
     "execution_count": 43,
     "metadata": {},
     "output_type": "execute_result"
    }
   ],
   "source": [
    "solution_array"
   ]
  },
  {
   "cell_type": "code",
   "execution_count": 44,
   "id": "b60140a4",
   "metadata": {},
   "outputs": [
    {
     "data": {
      "text/plain": [
       "98"
      ]
     },
     "execution_count": 44,
     "metadata": {},
     "output_type": "execute_result"
    }
   ],
   "source": [
    "len(solution_array)"
   ]
  },
  {
   "cell_type": "code",
   "execution_count": null,
   "id": "862ed70f",
   "metadata": {},
   "outputs": [],
   "source": []
  }
 ],
 "metadata": {
  "kernelspec": {
   "display_name": "Python 3 (ipykernel)",
   "language": "python",
   "name": "python3"
  },
  "language_info": {
   "codemirror_mode": {
    "name": "ipython",
    "version": 3
   },
   "file_extension": ".py",
   "mimetype": "text/x-python",
   "name": "python",
   "nbconvert_exporter": "python",
   "pygments_lexer": "ipython3",
   "version": "3.9.7"
  }
 },
 "nbformat": 4,
 "nbformat_minor": 5
}
