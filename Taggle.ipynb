{
 "cells": [
  {
   "cell_type": "code",
   "execution_count": 103,
   "id": "90e6f466",
   "metadata": {},
   "outputs": [],
   "source": [
    "import random\n",
    "import string\n",
    "import json"
   ]
  },
  {
   "cell_type": "code",
   "execution_count": 104,
   "id": "7ff17826",
   "metadata": {},
   "outputs": [],
   "source": [
    "# method to remove punctuation from text, in order to make the game less annoyingly precise.\n",
    "# perhaps common words like 'the' should be removed to?\n",
    "\n",
    "def SPAG_remover(word):\n",
    "    return word.lower().translate(str.maketrans('', '', string.punctuation)).replace('the', '').replace('and', '').replace(' ', '')"
   ]
  },
  {
   "cell_type": "code",
   "execution_count": 105,
   "id": "149f7907",
   "metadata": {},
   "outputs": [],
   "source": [
    "# method to set the difficulty. there are several json files of varying size; \n",
    "# films are added based on how many people have rated them (not the rating itself), so smaller sets only contain the most\n",
    "# well known films, but larger sets contain more obscure films too.\n",
    "# the diff value relates to how many pages have been scraped, at a rate of 50 films per page.\n",
    "def difficulty(choice):\n",
    "    if choice == '1':\n",
    "        print(\"Fun difficulty selected\")\n",
    "        size=1\n",
    "    elif choice == '2':\n",
    "        print(\"Tricky difficulty selected\")\n",
    "        size=5\n",
    "    elif choice == '3':\n",
    "        print(\"Taxing difficulty selected\")\n",
    "        size=10\n",
    "    elif choice == '4':\n",
    "        print(\"Mayhem difficulty selected\")\n",
    "        size=20\n",
    "    else:\n",
    "        print(\"NIGHTMARE! difficulty selected\")\n",
    "        size=100\n",
    "        \n",
    "    \n",
    "    data_location = f'data/imdb_tag_game_{size}.json'\n",
    "    with open(data_location) as json_file:\n",
    "        return json.load(json_file)\n",
    "    \n",
    "        \n",
    "    "
   ]
  },
  {
   "cell_type": "code",
   "execution_count": 113,
   "id": "ff734c95",
   "metadata": {},
   "outputs": [
    {
     "name": "stdout",
     "output_type": "stream",
     "text": [
      "choose your difficulty: \n",
      " 1 (Fun), 2 (Tricky), 3 (Taxing), 4 (Mayhem) 2\n",
      "Tricky difficulty selected\n",
      "i have chosen a random film\n",
      "work out the film by guessing. every guess will reveal more tags\n",
      "guess a film (or type /*quit*/, /*hint*/, or /*spoil*/) gattacca\n",
      "Unknown film; check your SPAG and try again\n",
      "guess a film (or type /*quit*/, /*hint*/, or /*spoil*/) gattaca\n",
      "Unknown film; check your SPAG and try again\n"
     ]
    },
    {
     "ename": "KeyboardInterrupt",
     "evalue": "Interrupted by user",
     "output_type": "error",
     "traceback": [
      "\u001b[1;31m---------------------------------------------------------------------------\u001b[0m",
      "\u001b[1;31mKeyboardInterrupt\u001b[0m                         Traceback (most recent call last)",
      "\u001b[1;32m~\\AppData\\Local\\Temp/ipykernel_16276/488726718.py\u001b[0m in \u001b[0;36m<module>\u001b[1;34m\u001b[0m\n\u001b[0;32m     14\u001b[0m \u001b[1;33m\u001b[0m\u001b[0m\n\u001b[0;32m     15\u001b[0m \u001b[1;32mwhile\u001b[0m \u001b[0mguess\u001b[0m \u001b[1;33m!=\u001b[0m \u001b[0manswer\u001b[0m\u001b[1;33m:\u001b[0m\u001b[1;33m\u001b[0m\u001b[1;33m\u001b[0m\u001b[0m\n\u001b[1;32m---> 16\u001b[1;33m     \u001b[0mguess_raw\u001b[0m \u001b[1;33m=\u001b[0m \u001b[0minput\u001b[0m\u001b[1;33m(\u001b[0m\u001b[1;34m\"guess a film (or type /*quit*/, /*hint*/, or /*spoil*/) \"\u001b[0m\u001b[1;33m)\u001b[0m\u001b[1;33m\u001b[0m\u001b[1;33m\u001b[0m\u001b[0m\n\u001b[0m\u001b[0;32m     17\u001b[0m     \u001b[0mguess\u001b[0m \u001b[1;33m=\u001b[0m \u001b[0mSPAG_remover\u001b[0m\u001b[1;33m(\u001b[0m\u001b[0mguess_raw\u001b[0m\u001b[1;33m)\u001b[0m\u001b[1;33m\u001b[0m\u001b[1;33m\u001b[0m\u001b[0m\n\u001b[0;32m     18\u001b[0m \u001b[1;33m\u001b[0m\u001b[0m\n",
      "\u001b[1;32m~\\anaconda3\\lib\\site-packages\\ipykernel\\kernelbase.py\u001b[0m in \u001b[0;36mraw_input\u001b[1;34m(self, prompt)\u001b[0m\n\u001b[0;32m   1004\u001b[0m                 \u001b[1;34m\"raw_input was called, but this frontend does not support input requests.\"\u001b[0m\u001b[1;33m\u001b[0m\u001b[1;33m\u001b[0m\u001b[0m\n\u001b[0;32m   1005\u001b[0m             )\n\u001b[1;32m-> 1006\u001b[1;33m         return self._input_request(\n\u001b[0m\u001b[0;32m   1007\u001b[0m             \u001b[0mstr\u001b[0m\u001b[1;33m(\u001b[0m\u001b[0mprompt\u001b[0m\u001b[1;33m)\u001b[0m\u001b[1;33m,\u001b[0m\u001b[1;33m\u001b[0m\u001b[1;33m\u001b[0m\u001b[0m\n\u001b[0;32m   1008\u001b[0m             \u001b[0mself\u001b[0m\u001b[1;33m.\u001b[0m\u001b[0m_parent_ident\u001b[0m\u001b[1;33m[\u001b[0m\u001b[1;34m\"shell\"\u001b[0m\u001b[1;33m]\u001b[0m\u001b[1;33m,\u001b[0m\u001b[1;33m\u001b[0m\u001b[1;33m\u001b[0m\u001b[0m\n",
      "\u001b[1;32m~\\anaconda3\\lib\\site-packages\\ipykernel\\kernelbase.py\u001b[0m in \u001b[0;36m_input_request\u001b[1;34m(self, prompt, ident, parent, password)\u001b[0m\n\u001b[0;32m   1049\u001b[0m             \u001b[1;32mexcept\u001b[0m \u001b[0mKeyboardInterrupt\u001b[0m\u001b[1;33m:\u001b[0m\u001b[1;33m\u001b[0m\u001b[1;33m\u001b[0m\u001b[0m\n\u001b[0;32m   1050\u001b[0m                 \u001b[1;31m# re-raise KeyboardInterrupt, to truncate traceback\u001b[0m\u001b[1;33m\u001b[0m\u001b[1;33m\u001b[0m\u001b[0m\n\u001b[1;32m-> 1051\u001b[1;33m                 \u001b[1;32mraise\u001b[0m \u001b[0mKeyboardInterrupt\u001b[0m\u001b[1;33m(\u001b[0m\u001b[1;34m\"Interrupted by user\"\u001b[0m\u001b[1;33m)\u001b[0m \u001b[1;32mfrom\u001b[0m \u001b[1;32mNone\u001b[0m\u001b[1;33m\u001b[0m\u001b[1;33m\u001b[0m\u001b[0m\n\u001b[0m\u001b[0;32m   1052\u001b[0m             \u001b[1;32mexcept\u001b[0m \u001b[0mException\u001b[0m\u001b[1;33m:\u001b[0m\u001b[1;33m\u001b[0m\u001b[1;33m\u001b[0m\u001b[0m\n\u001b[0;32m   1053\u001b[0m                 \u001b[0mself\u001b[0m\u001b[1;33m.\u001b[0m\u001b[0mlog\u001b[0m\u001b[1;33m.\u001b[0m\u001b[0mwarning\u001b[0m\u001b[1;33m(\u001b[0m\u001b[1;34m\"Invalid Message:\"\u001b[0m\u001b[1;33m,\u001b[0m \u001b[0mexc_info\u001b[0m\u001b[1;33m=\u001b[0m\u001b[1;32mTrue\u001b[0m\u001b[1;33m)\u001b[0m\u001b[1;33m\u001b[0m\u001b[1;33m\u001b[0m\u001b[0m\n",
      "\u001b[1;31mKeyboardInterrupt\u001b[0m: Interrupted by user"
     ]
    }
   ],
   "source": [
    "choice = input(\"choose your difficulty: \\n 1 (Fun), 2 (Tricky), 3 (Taxing), 4 (Mayhem) \")\n",
    "type(choice)\n",
    "\n",
    "film_dict = difficulty(choice)\n",
    "\n",
    "answer = random.choice(list(film_dict.keys()))\n",
    "answer_raw = film_dict[answer]['punc_name']\n",
    "print(f\"i have chosen a random film\")\n",
    "print(\"work out the film by guessing. every guess will reveal more tags\")\n",
    "guess_raw = \"\"\n",
    "guess = \"\"\n",
    "guess_counter = 0\n",
    "tag_list = []\n",
    "\n",
    "while guess != answer:\n",
    "    guess_raw = input(\"guess a film (or type /*quit*/, /*hint*/, or /*spoil*/) \")\n",
    "    guess = SPAG_remover(guess_raw)\n",
    "    \n",
    "    if guess == answer:\n",
    "        print(f\"you're right! well done. \\nAnd it only took you {guess_counter} goes.\")\n",
    "        print(film_dict[answer]['tags'])\n",
    "    elif guess == \"quit\":\n",
    "        print(f\"\\noh, it was {answer_raw}\")\n",
    "        break\n",
    "    elif guess ==\"hint\":\n",
    "        print(f\"this film features a... {random.choice(film_dict[answer]['tags'])}\")\n",
    "        guess_counter += 1\n",
    "    elif guess ==\"spoil\":\n",
    "        print(f\"\\nGet it in one or not at all: \\n{film_dict[answer]['tags']}\")\n",
    "        guess_counter += 1\n",
    "    else:\n",
    "        try:\n",
    "            answer_tags = film_dict[answer]['tags']\n",
    "            guess_tags = film_dict[guess]['tags']\n",
    "            common_tags = set(guess_tags).intersection(answer_tags)\n",
    "            similarity = round(len(common_tags)*100/(len(answer_tags)))\n",
    "            print(f\"{similarity}% match! they share the following tags (repitions ommitted):\\n\")\n",
    "            print(common_tags.difference(tag_list))\n",
    "            tag_list = set(common_tags.union(tag_list))\n",
    "            progress = round(len(tag_list)*100/(len(film_dict[answer]['tags'])))\n",
    "            print(f\"\\nTotal progress: you have found {progress}% of the tags\")\n",
    "            guess_counter += 1\n",
    "        except KeyError:\n",
    "            print(\"Unknown film; check your SPAG and try again\")\n",
    "            \n"
   ]
  },
  {
   "cell_type": "code",
   "execution_count": 114,
   "id": "dbfe0e9b",
   "metadata": {},
   "outputs": [
    {
     "data": {
      "text/plain": [
       "'world war z'"
      ]
     },
     "execution_count": 114,
     "metadata": {},
     "output_type": "execute_result"
    }
   ],
   "source": [
    "answer"
   ]
  },
  {
   "cell_type": "code",
   "execution_count": 115,
   "id": "31080976",
   "metadata": {},
   "outputs": [
    {
     "data": {
      "text/plain": [
       "'World War Z (2013)'"
      ]
     },
     "execution_count": 115,
     "metadata": {},
     "output_type": "execute_result"
    }
   ],
   "source": [
    "answer_raw"
   ]
  },
  {
   "cell_type": "code",
   "execution_count": 116,
   "id": "85efdf21",
   "metadata": {},
   "outputs": [
    {
     "data": {
      "text/plain": [
       "'gattaca'"
      ]
     },
     "execution_count": 116,
     "metadata": {},
     "output_type": "execute_result"
    }
   ],
   "source": [
    "guess"
   ]
  },
  {
   "cell_type": "code",
   "execution_count": null,
   "id": "cb93e822",
   "metadata": {},
   "outputs": [],
   "source": []
  },
  {
   "cell_type": "code",
   "execution_count": null,
   "id": "4eff0b47",
   "metadata": {},
   "outputs": [],
   "source": []
  }
 ],
 "metadata": {
  "kernelspec": {
   "display_name": "Python 3 (ipykernel)",
   "language": "python",
   "name": "python3"
  },
  "language_info": {
   "codemirror_mode": {
    "name": "ipython",
    "version": 3
   },
   "file_extension": ".py",
   "mimetype": "text/x-python",
   "name": "python",
   "nbconvert_exporter": "python",
   "pygments_lexer": "ipython3",
   "version": "3.9.7"
  }
 },
 "nbformat": 4,
 "nbformat_minor": 5
}
