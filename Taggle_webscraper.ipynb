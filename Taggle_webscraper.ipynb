{
 "cells": [
  {
   "cell_type": "markdown",
   "id": "e380c66b",
   "metadata": {},
   "source": [
    "# TAGgle\n",
    "A wordle-like based on imdb film keywords.\n",
    "\n",
    "The code here is scrapes data from IMDB and writes it to a json for use in the external app. \n",
    "\n",
    "The only variable needed to be altered here is the size, which references how many pages to scrape. Each page is 50 films. This enables the external app to choose from several difficulty levels.\n"
   ]
  },
  {
   "cell_type": "code",
   "execution_count": 52,
   "id": "244b3a7b",
   "metadata": {},
   "outputs": [],
   "source": [
    "#import dependencies\n",
    "from splinter import Browser\n",
    "from bs4 import BeautifulSoup as bs\n",
    "import time\n",
    "from webdriver_manager.chrome import ChromeDriverManager\n",
    "import pandas as pd\n",
    "import re\n",
    "import fnmatch\n",
    "import random\n",
    "import string\n",
    "import json"
   ]
  },
  {
   "cell_type": "code",
   "execution_count": 53,
   "id": "3071c02f",
   "metadata": {},
   "outputs": [],
   "source": [
    "\n",
    "# how many pages to return, at 50 films per page\n",
    "# this effectively sets a difficulty level; 1: easy, 5: medium, 20: severe\n",
    "size = 1\n"
   ]
  },
  {
   "cell_type": "code",
   "execution_count": 54,
   "id": "f6d92fda",
   "metadata": {},
   "outputs": [
    {
     "name": "stderr",
     "output_type": "stream",
     "text": [
      "\n",
      "\n",
      "====== WebDriver manager ======\n",
      "Current google-chrome version is 105.0.5195\n",
      "Get LATEST chromedriver version for 105.0.5195 google-chrome\n",
      "Driver [C:\\Users\\David\\.wdm\\drivers\\chromedriver\\win32\\105.0.5195.52\\chromedriver.exe] found in cache\n"
     ]
    }
   ],
   "source": [
    "# Set up Splinter\n",
    "executable_path = {'executable_path': ChromeDriverManager().install()}\n",
    "browser = Browser('chrome', **executable_path, headless=False)"
   ]
  },
  {
   "cell_type": "code",
   "execution_count": 55,
   "id": "965a26fb",
   "metadata": {},
   "outputs": [],
   "source": [
    "# method to grab all 50 films from an IMDB URL\n",
    "def populate_films(url):\n",
    "    browser.visit(url)\n",
    "    soup = bs(browser.html, 'html.parser')\n",
    "    # the image next to the film contains most of the data we need: film title in the alt-text, and film id in 'data-tconst'.\n",
    "    href_list = soup.find_all('img', class_='loadlate')\n",
    "    for item in href_list:\n",
    "        film_names.append(item['alt'])\n",
    "        film_ids.append(item['data-tconst'])\n",
    "#     now grab the year of the film in case of name conflict\n",
    "    year_list = soup.find_all('span', class_='lister-item-year text-muted unbold')\n",
    "    for item in year_list:\n",
    "        years.append(item.contents[0])"
   ]
  },
  {
   "cell_type": "code",
   "execution_count": 56,
   "id": "1f9bb1a9",
   "metadata": {},
   "outputs": [
    {
     "name": "stdout",
     "output_type": "stream",
     "text": [
      "grabbing the names and id of the first 50 films, ranked by most rated\n",
      "getting films from page 1 of 1\n"
     ]
    }
   ],
   "source": [
    "film_names = []\n",
    "film_ids = []\n",
    "years = []\n",
    "\n",
    "print(f\"grabbing the names and id of the first {size*50} films, ranked by most rated\")    \n",
    "for i in range (0,size):\n",
    "    url = f\"https://www.imdb.com/search/keyword/?ref_=kw_nxt&mode=detail&page={i+1}&sort=num_votes,desc&title_type=movie\"\n",
    "    populate_films(url)\n",
    "    print(f\"getting films from page {i+1} of {size}\")\n",
    "    "
   ]
  },
  {
   "cell_type": "code",
   "execution_count": 57,
   "id": "da0f4136",
   "metadata": {},
   "outputs": [
    {
     "name": "stdout",
     "output_type": "stream",
     "text": [
      "1: tt0111161, The Shawshank Redemption, (1994)\n",
      "2: tt0468569, The Dark Knight, (2008)\n",
      "3: tt1375666, Inception, (2010)\n",
      "4: tt0137523, Fight Club, (1999)\n",
      "5: tt0109830, Forrest Gump, (1994)\n",
      "6: tt0110912, Pulp Fiction, (1994)\n",
      "7: tt0133093, The Matrix, (1999)\n",
      "8: tt0120737, The Lord of the Rings: The Fellowship of the Ring, (2001)\n",
      "9: tt0068646, The Godfather, (1972)\n",
      "10: tt0167260, The Lord of the Rings: The Return of the King, (2003)\n",
      "11: tt0816692, Interstellar, (2014)\n",
      "12: tt1345836, The Dark Knight Rises, (2012)\n",
      "13: tt0167261, The Lord of the Rings: The Two Towers, (2002)\n",
      "14: tt0114369, Seven, (1995)\n",
      "15: tt1853728, Django Unchained, (2012)\n",
      "16: tt0172495, Gladiator, (2000)\n",
      "17: tt0372784, Batman Begins, (2005)\n",
      "18: tt0361748, Inglourious Basterds, (2009)\n",
      "19: tt0102926, The Silence of the Lambs, (1991)\n",
      "20: tt0993846, The Wolf of Wall Street, (2013)\n",
      "21: tt0848228, Avengers Assemble, (2012)\n",
      "22: tt0120815, Saving Private Ryan, (1998)\n",
      "23: tt0076759, Star Wars, (1977)\n",
      "24: tt0108052, Schindler's List, (1993)\n",
      "25: tt0482571, The Prestige, (2006)\n",
      "26: tt0407887, The Departed, (2006)\n",
      "27: tt1130884, Shutter Island, (2010)\n",
      "28: tt0120689, The Green Mile, (1999)\n",
      "29: tt0080684, Star Wars: Episode V - The Empire Strikes Back, (1980)\n",
      "30: tt0071562, The Godfather: Part II, (1974)\n",
      "31: tt7286456, Joker, (I) (2019)\n",
      "32: tt0209144, Memento, (2000)\n",
      "33: tt0499549, Avatar, (2009)\n",
      "34: tt0088763, Back to the Future, (1985)\n",
      "35: tt2015381, Guardians of the Galaxy, (2014)\n",
      "36: tt0120338, Titanic, (1997)\n",
      "37: tt0110413, Leon, (1994)\n",
      "38: tt0169547, American Beauty, (1999)\n",
      "39: tt0099685, Goodfellas, (1990)\n",
      "40: tt0325980, Pirates of the Caribbean: The Curse of the Black Pearl, (2003)\n",
      "41: tt0434409, V for Vendetta, (2005)\n",
      "42: tt0120586, American History X, (1998)\n",
      "43: tt0910970, WALL·E, (2008)\n",
      "44: tt0266697, Kill Bill: Vol. 1, (2003)\n",
      "45: tt4154796, Avengers: Endgame, (2019)\n",
      "46: tt0103064, Terminator 2: Judgment Day, (1991)\n",
      "47: tt0114814, The Usual Suspects, (1995)\n",
      "48: tt0120382, The Truman Show, (1998)\n",
      "49: tt4154756, Avengers: Infinity War, (2018)\n",
      "50: tt0371746, Iron Man, (2008)\n"
     ]
    }
   ],
   "source": [
    "# print a list of all the films \n",
    "for i in range (0, len(film_names)):\n",
    "    print(f\"{i+1}: {film_ids[i]}, {film_names[i]}, {years[i]}\")"
   ]
  },
  {
   "cell_type": "code",
   "execution_count": null,
   "id": "5a600b73",
   "metadata": {},
   "outputs": [],
   "source": []
  },
  {
   "cell_type": "code",
   "execution_count": 58,
   "id": "43a40678",
   "metadata": {},
   "outputs": [],
   "source": [
    "# this method scrapes the keywords from the indivual page for the given film id.\n",
    "def get_keywords(film_id):\n",
    "    keyURL = f\"https://www.imdb.com/title/{film_id}/keywords\"\n",
    "    browser.visit(keyURL)\n",
    "    soup = bs(browser.html, 'html.parser')\n",
    "    # in the keywords table, each keyword can be found in a 'sodatext' div.\n",
    "    key_list = soup.find_all('div', class_='sodatext')\n",
    "    \n",
    "    keys = []\n",
    "    for div in key_list:\n",
    "        # we just want the text from what is in the page as an anchor.\n",
    "        keys.append(div.find('a').contents[0])\n",
    "    return keys\n",
    "    "
   ]
  },
  {
   "cell_type": "code",
   "execution_count": 59,
   "id": "f89298b3",
   "metadata": {},
   "outputs": [],
   "source": [
    "# code to remove punctutation and capitals from any text.\n",
    "# perhaps common words like 'the' should be removed to?\n",
    "\n",
    "def SPAG_remover(word):\n",
    "    return word.lower().translate(str.maketrans('', '', string.punctuation)).replace('·', '').replace('the ', '').replace(' and ', '').replace(' ', '')"
   ]
  },
  {
   "cell_type": "code",
   "execution_count": 60,
   "id": "4233e212",
   "metadata": {},
   "outputs": [
    {
     "name": "stdout",
     "output_type": "stream",
     "text": [
      "film 1 of 50\n",
      "film 2 of 50\n",
      "film 3 of 50\n",
      "film 4 of 50\n",
      "film 5 of 50\n",
      "film 6 of 50\n",
      "film 7 of 50\n",
      "film 8 of 50\n",
      "film 9 of 50\n",
      "film 10 of 50\n",
      "film 11 of 50\n",
      "film 12 of 50\n",
      "film 13 of 50\n",
      "film 14 of 50\n",
      "film 15 of 50\n",
      "film 16 of 50\n",
      "film 17 of 50\n",
      "film 18 of 50\n",
      "film 19 of 50\n",
      "film 20 of 50\n",
      "film 21 of 50\n",
      "film 22 of 50\n",
      "film 23 of 50\n",
      "film 24 of 50\n",
      "film 25 of 50\n",
      "film 26 of 50\n",
      "film 27 of 50\n",
      "film 28 of 50\n",
      "film 29 of 50\n",
      "film 30 of 50\n",
      "film 31 of 50\n",
      "film 32 of 50\n",
      "film 33 of 50\n",
      "film 34 of 50\n",
      "film 35 of 50\n",
      "film 36 of 50\n",
      "film 37 of 50\n",
      "film 38 of 50\n",
      "film 39 of 50\n",
      "film 40 of 50\n",
      "film 41 of 50\n",
      "film 42 of 50\n",
      "film 43 of 50\n",
      "film 44 of 50\n",
      "film 45 of 50\n",
      "film 46 of 50\n",
      "film 47 of 50\n",
      "film 48 of 50\n",
      "film 49 of 50\n",
      "film 50 of 50\n"
     ]
    }
   ],
   "source": [
    "# this method loops through the film names, and for each one, calls the 'get_keywords' method. \n",
    "# all this data is then wrapped up in a dictionary.\n",
    "# the dictionary is then added to the main dictionary, with a cleaned-up film name.\n",
    "film_dict = {}\n",
    "for i in range(0, len(film_names)):\n",
    "    print(f\"film {i+1} of {len(film_names)}\")\n",
    "    new_film = {'id': film_ids[i], 'punc_name': film_names[i] + \" \" + years[i], 'tags': get_keywords(film_ids[i])}\n",
    "    film_dict.update({(SPAG_remover(film_names[i])) + years[i]: new_film})"
   ]
  },
  {
   "cell_type": "code",
   "execution_count": 65,
   "id": "6a29d043",
   "metadata": {},
   "outputs": [
    {
     "name": "stdout",
     "output_type": "stream",
     "text": [
      "lordofringsreturnofking(2003)\n",
      "{'id': 'tt0167260', 'punc_name': 'The Lord of the Rings: The Return of the King (2003)', 'tags': ['epic', 'orc', 'middle earth', 'hobbit', 'ring', 'battle', 'quest', 'journey', 'good versus evil', 'wizard', 'king', 'fate', 'falling into lava', 'lava', 'volcano', 'volcanic eruption', 'curse', 'courage', 'elrond character', 'galadriel character', 'legolas character', 'gollum character', 'frodo baggins character', 'saruman the white character', 'orcs character', 'gandalf character', 'elves character', 'bilbo baggins character', 'third part', 'sequel', 'male protagonist', 'violence', 'ensemble cast', 'battleaxe', 'tree', 'dead tree', 'barefoot', 'swordsman', 'mountain', 'royal', 'death', 'bowing', 'throne', 'fireplace', 'hatred', 'army', 'flying creature', 'ruins', 'ambush', 'outpost', 'signal', 'singing', 'blockbuster', 'cult classic', 'famous score', 'no opening credits', 'part computer animation', 'orchestral music score', 'symphonic music score', 'third in trilogy', 'part of trilogy', 'flashback', 'returning character killed off', 'sequel to cult favorite', 'colon in title', 'ten word title', 'last of series', 'city', 'gate', 'elvish', 'camaraderie', 'anti hero', 'drinking', 'final battle', 'kingdom', 'last stand', 'staff', 'sword and fantasy', 'axe fight', 'hand to hand combat', 'fictional war', 'ancient race', 'journey shown on map', 'finger bitten off', 'shot back to back', 'invented language', 'race against time', 'mission', 'magic', 'tragic hero', 'wilhelm scream', 'tragic villain', 'tied up', 'dark hero', 'light', 'split personality', 'ship', 'plain', 'horse', 'wedding ceremony', 'sorcerer', 'monster', 'fire', 'warrior', 'tragedy', 'strangulation', 'spirit', 'disfigurement', 'tunnel', 'troll', 'tower', 'temptation', 'rescue', 'invisibility', 'forest', 'eagle', 'combat', 'battering ram', 'sword', 'elf', 'castle', 'sword and sorcery', 'based on novel', 'loyalty', 'chaste character', 'motion capture', 'white tree', 'dancing', 'beard', 'bearded man', 'hoodie', 'horseman', 'helmet', 'high', 'leaf', 'cutting off a finger', 'scuffle', 'isolation', 'fish', 'candle', 'statue', 'lightning', 'bridge', 'amphibian', 'swords drawn', 'torch', 'overrun', 'rope', 'starting a fire', 'blonde girl', 'brown horse', 'blood', 'whispering', 'dual personality', 'oath', 'stealing food', 'kissing the ring', 'lie', 'close up of mouth', 'archer', 'neighing', 'tent', 'samwise gamgee character', 'gimli character', 'boromir character', 'aragorn character', 'epic battle', 'parley', 'tearjerker', 'multiple cameos', 'suspicion', 'single blade axe', 'speaking elvish', 'blood splatter', 'drinking game', 'fear', 'bow and arrow', 'shot with a bow and arrow', 'showdown', 'dream', 'idealism', 'warrior woman', 'hope', 'destiny', 'abyss', 'lava stream', 'vision', 'princess', 'defense', 'pub', 'marriage', 'boat', 'soldier', 'trampled to death', 'stabbed in the neck', 'stabbed in the leg', 'stabbed in the back', 'stabbed in the arm', 'shot in the stomach', 'wound', 'wedding', 'walled city', 'suicide', 'stairs', 'person on fire', 'old age', 'murder', 'giant bird', 'ghost', 'fortress', 'fishing', 'falling from height', 'disguise', 'decoy', 'crystal ball', 'betrayal', 'archery', 'friendship', 'severed finger', 'spider', 'drunkenness', 'battlefield', 'animate tree', 'surprise ending', 'giant spider', 'platonic relationship', 'cousin cousin relationship', 'brother sister relationship', 'uncle nephew relationship', 'cooperation', 'passed out', 'passed out on the floor', 'unconscious man', 'catatonic', 'courtyard', 'talking in sleep', 'sleeping with eyes open', 'feast', 'ale', 'two men dancing', 'sweating', 'pond', 'talking to oneself', 'fool', 'pillar', 'dancing on a table', 'plan', 'aid', 'armour', 'dancing on table', 'smoking man', 'veiled woman', 'narcotics', 'hay', 'smoking joints', 'foresight', 'blacksmith', 'cape', 'blade', 'cutting off finger', 'quarrel', 'asleep', 'murderer', 'killing', 'killer', 'raw fish', 'eating raw fish', 'gazebo', 'book', 'holding hands', 'cold hand', 'ashen skin', 'snow capped mountain', 'rock face', 'stubble', 'hall', 'banner', 'beacon', 'steward', 'caretaker', 'wind in hair', 'legion', 'mammoth', 'mercenary', 'crouching', 'screech', 'covering ears', 'stairway', 'pulling someone aside', 'ground shaking', 'sleeping on the floor', \"covering one's ears\", 'marching', 'axe', 'scythe', 'climbing a mountain', \"covering one's ears with one's hands\", 'covering ears with hands', 'setting a fire', 'mountain pass', 'peak', 'marching soldiers', 'running', 'man running', 'running man', 'chick', 'blonde woman', 'mobilization', 'captain', 'army mobilization', 'massacre', 'slaughter', 'club', 'bloody mouth', 'blood lust', 'bad teeth', 'evacuation', 'thrown through the air', 'thrown into the air', 'tossed in the air', 'come to the rescue', 'ride to the rescue', 'lone defender to rescue', 'helping hand', 'tired', 'panting', 'voracious appetite', 'grape', 'cherry tomato', 'chalice', 'sleeping rough', 'plot', 'accusation', 'bread crumbs', 'choking someone', 'dismissal', 'turning against friends', 'hopeless cause', 'lament', 'stuffing face', 'camp', 'restless horse', 'visible breath', 'siege tower', 'inscription', 'restless sleep', 'good guys win', 'dry for wet', 'live action and animation', 'psychotronic film', 'death of protagonist', \"chewing with one's mouth open\", 'cgi character in a live action movie', 'opening action scene', 'fistfight', 'final showdown', 'smoking marijuana', 'pipe smoking', 'actor reprises previous role', 'lord of the rings', 'high fantasy', 'rotoscoping', 'shared universe', 'horn the musical instrument', 'epic fantasy', 'quest adventure', 'cursed artifact', 'epic action', 'epic adventure', 'smoking tobacco', 'tobacco', 'bechdel test failed', 'sword and sorcery fantasy', 'sorcery', 'swords n sorcery', 'swords & sorcery', 'undead army', 'gloating', 'emaciation', 'disarming someone', 'husband wife relationship', 'love triangle', 'paralysis', 'pirate', 'gore', 'witch', 'undead', 'christ figure', 'peril', 'melodrama', 'ancient sword', 'alliance', 'skull', 'river', 'warrior race', 'brotherhood', 'honor', 'dying words', 'harbor', 'retreat', 'exhaustion', 'departure', 'greed', 'corruption', 'stabbed in the side', 'stabbed in the mouth', 'shot in the shoulder', 'shot in the neck', 'shot in the head', 'shot in the forehead', 'severed nose', 'nightmare', 'loss of friend', 'loss of father', 'loss of brother', 'insanity', 'deception', 'darkness', 'broken leg', 'broken back', 'self immolation', 'gardener', 'wraith', 'unrequited love', 'tomb', 'sword fight', 'staircase', 'signal fire', 'siege', 'severed head', 'sailboat', 'pyre', 'presumed dead', 'premonition', 'loss of son', 'impalement', 'fight', 'father son relationship', 'father daughter relationship', 'elephant', 'crushed to death', 'coronation', 'cocoon', 'cliff', 'cavalry', 'catapult', 'animal attack', 'halfling', 'heroism', 'little person', 'decapitation', 'throat slit', 'bravery', 'death of father', 'based on book', 'drug', 'dead son', 'sneaking', 'billion dollar club', 'cult film', 'cult director', 'franchise', 'lifting someone into the air', 'lifting an adult into the air', 'lifting a male into the air', 'slow motion scene', 'underwater scene', 'army of the dead', 'balladeer', 'friends who live together', 'prehistoric times', 'prehistory', 'attempted murder', 'survival', 'beowulf']}\n"
     ]
    }
   ],
   "source": [
    "# display a random entry from the dictionary to check it's working\n",
    "keith = random.choice(list(film_dict.keys()))\n",
    "print(keith)\n",
    "print(film_dict[keith])"
   ]
  },
  {
   "cell_type": "code",
   "execution_count": 66,
   "id": "e450f43b",
   "metadata": {},
   "outputs": [],
   "source": [
    "# export the dictionary to an external json file for portability\n",
    "with open(f'data/imdb_tag_game_{size}.json', 'w') as fp:\n",
    "    json.dump(film_dict, fp)"
   ]
  },
  {
   "cell_type": "code",
   "execution_count": 63,
   "id": "7db61df9",
   "metadata": {},
   "outputs": [
    {
     "data": {
      "text/plain": [
       "['The Shawshank Redemption',\n",
       " 'The Dark Knight',\n",
       " 'Inception',\n",
       " 'Fight Club',\n",
       " 'Forrest Gump',\n",
       " 'Pulp Fiction',\n",
       " 'The Matrix',\n",
       " 'The Lord of the Rings: The Fellowship of the Ring',\n",
       " 'The Godfather',\n",
       " 'The Lord of the Rings: The Return of the King',\n",
       " 'Interstellar',\n",
       " 'The Dark Knight Rises',\n",
       " 'The Lord of the Rings: The Two Towers',\n",
       " 'Seven',\n",
       " 'Django Unchained',\n",
       " 'Gladiator',\n",
       " 'Batman Begins',\n",
       " 'Inglourious Basterds',\n",
       " 'The Silence of the Lambs',\n",
       " 'The Wolf of Wall Street',\n",
       " 'Avengers Assemble',\n",
       " 'Saving Private Ryan',\n",
       " 'Star Wars',\n",
       " \"Schindler's List\",\n",
       " 'The Prestige',\n",
       " 'The Departed',\n",
       " 'Shutter Island',\n",
       " 'The Green Mile',\n",
       " 'Star Wars: Episode V - The Empire Strikes Back',\n",
       " 'The Godfather: Part II',\n",
       " 'Joker',\n",
       " 'Memento',\n",
       " 'Avatar',\n",
       " 'Back to the Future',\n",
       " 'Guardians of the Galaxy',\n",
       " 'Titanic',\n",
       " 'Leon',\n",
       " 'American Beauty',\n",
       " 'Goodfellas',\n",
       " 'Pirates of the Caribbean: The Curse of the Black Pearl',\n",
       " 'V for Vendetta',\n",
       " 'American History X',\n",
       " 'WALL·E',\n",
       " 'Kill Bill: Vol. 1',\n",
       " 'Avengers: Endgame',\n",
       " 'Terminator 2: Judgment Day',\n",
       " 'The Usual Suspects',\n",
       " 'The Truman Show',\n",
       " 'Avengers: Infinity War',\n",
       " 'Iron Man']"
      ]
     },
     "execution_count": 63,
     "metadata": {},
     "output_type": "execute_result"
    }
   ],
   "source": [
    "film_names"
   ]
  },
  {
   "cell_type": "code",
   "execution_count": 64,
   "id": "9dd9a9a1",
   "metadata": {},
   "outputs": [
    {
     "data": {
      "text/plain": [
       "dict_keys(['shawshankredemption(1994)', 'darkknight(2008)', 'inception(2010)', 'fightclub(1999)', 'forrestgump(1994)', 'pulpfiction(1994)', 'matrix(1999)', 'lordofringsfellowshipofring(2001)', 'godfather(1972)', 'lordofringsreturnofking(2003)', 'interstellar(2014)', 'darkknightrises(2012)', 'lordofringstwotowers(2002)', 'seven(1995)', 'djangounchained(2012)', 'gladiator(2000)', 'batmanbegins(2005)', 'inglouriousbasterds(2009)', 'silenceoflambs(1991)', 'wolfofwallstreet(2013)', 'avengersassemble(2012)', 'savingprivateryan(1998)', 'starwars(1977)', 'schindlerslist(1993)', 'prestige(2006)', 'departed(2006)', 'shutterisland(2010)', 'greenmile(1999)', 'starwarsepisodevempirestrikesback(1980)', 'godfatherpartii(1974)', 'joker(I) (2019)', 'memento(2000)', 'avatar(2009)', 'backtofuture(1985)', 'guardiansofgalaxy(2014)', 'titanic(1997)', 'leon(1994)', 'americanbeauty(1999)', 'goodfellas(1990)', 'piratesofcaribbeancurseofblackpearl(2003)', 'vforvendetta(2005)', 'americanhistoryx(1998)', 'walle(2008)', 'killbillvol1(2003)', 'avengersendgame(2019)', 'terminator2judgmentday(1991)', 'usualsuspects(1995)', 'trumanshow(1998)', 'avengersinfinitywar(2018)', 'ironman(2008)'])"
      ]
     },
     "execution_count": 64,
     "metadata": {},
     "output_type": "execute_result"
    }
   ],
   "source": [
    "film_dict.keys()"
   ]
  },
  {
   "cell_type": "code",
   "execution_count": null,
   "id": "a6367316",
   "metadata": {},
   "outputs": [],
   "source": []
  },
  {
   "cell_type": "code",
   "execution_count": null,
   "id": "7d6e19be",
   "metadata": {},
   "outputs": [],
   "source": []
  }
 ],
 "metadata": {
  "kernelspec": {
   "display_name": "Python 3 (ipykernel)",
   "language": "python",
   "name": "python3"
  },
  "language_info": {
   "codemirror_mode": {
    "name": "ipython",
    "version": 3
   },
   "file_extension": ".py",
   "mimetype": "text/x-python",
   "name": "python",
   "nbconvert_exporter": "python",
   "pygments_lexer": "ipython3",
   "version": "3.9.7"
  }
 },
 "nbformat": 4,
 "nbformat_minor": 5
}
