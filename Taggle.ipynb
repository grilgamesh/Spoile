{
 "cells": [
  {
   "cell_type": "code",
   "execution_count": 17,
   "id": "90e6f466",
   "metadata": {},
   "outputs": [],
   "source": [
    "import random\n",
    "import string\n",
    "import json"
   ]
  },
  {
   "cell_type": "code",
   "execution_count": 18,
   "id": "7ff17826",
   "metadata": {},
   "outputs": [],
   "source": [
    "# method to remove punctuation from text, in order to make the game less annoyingly precise\n",
    "def SPAG_remover(word):\n",
    "    return word.lower().translate(str.maketrans('', '', string.punctuation))"
   ]
  },
  {
   "cell_type": "code",
   "execution_count": 19,
   "id": "149f7907",
   "metadata": {},
   "outputs": [],
   "source": [
    "# method to set the difficulty. there are several json files of varying size; \n",
    "# films are added based on how many people have rated them (not the rating itself), so smaller sets only contain the most\n",
    "# well known films, but larger sets contain more obscure films too.\n",
    "# the diff value relates to how many pages have been scraped, at a rate of 50 films per page.\n",
    "def difficulty(choice):\n",
    "    if choice == '1':\n",
    "        print(\"Fun difficulty selected\")\n",
    "        size=1\n",
    "    elif choice == '2':\n",
    "        print(\"Tricky difficulty selected\")\n",
    "        size=5\n",
    "    elif choice == '3':\n",
    "        print(\"Taxing difficulty selected\")\n",
    "        size=10\n",
    "    elif choice == '4':\n",
    "        print(\"Mayhem difficulty selected\")\n",
    "        size=20\n",
    "    else:\n",
    "        print(\"NIGHTMARE! difficulty selected\")\n",
    "        size=100\n",
    "        \n",
    "    \n",
    "    data_location = f'data/imdb_tag_game_{size}.json'\n",
    "    with open(data_location) as json_file:\n",
    "        return json.load(json_file)\n",
    "    \n",
    "        \n",
    "    "
   ]
  },
  {
   "cell_type": "code",
   "execution_count": 44,
   "id": "ff734c95",
   "metadata": {},
   "outputs": [
    {
     "name": "stdout",
     "output_type": "stream",
     "text": [
      "choose your difficulty: \n",
      " 1 (Fun), 2 (Tricky), 3 (Taxing), 4 (Mayhem) 1\n",
      "Fun difficulty selected\n",
      "i have chosen a random film.\n",
      "work out the film by guessing. every guess will reveal more tags\n",
      "guess a film (or type /*quit*/, /*hint*/, or /*spoil*/) quit\n",
      "\n",
      "oh, it was Django Unchained\n"
     ]
    }
   ],
   "source": [
    "choice = input(\"choose your difficulty: \\n 1 (Fun), 2 (Tricky), 3 (Taxing), 4 (Mayhem) \")\n",
    "type(choice)\n",
    "\n",
    "film_dict = difficulty(choice)\n",
    "\n",
    "answer_with_year = random.choice(list(film_dict.keys()))\n",
    "answer_raw = film_dict[answer_with_year]['punc_name']\n",
    "# remove the last 7 characters of the answer name as they will be \" (YYYY)\"\n",
    "answer = answer_with_year[:-7]\n",
    "year = answer_with_year[-6:]\n",
    "print(f\"i have chosen a random film.\")\n",
    "print(\"work out the film by guessing. every guess will reveal more tags\")\n",
    "guess_raw = \"\"\n",
    "guess = \"\"\n",
    "guess_counter = 0\n",
    "tag_list = []\n",
    "\n",
    "while guess != answer:\n",
    "    guess_raw = input(\"guess a film (or type /*quit*/, /*hint*/, or /*spoil*/) \")\n",
    "    guess = SPAG_remover(guess_raw)\n",
    "    \n",
    "    if guess == answer:\n",
    "        print(f\"you're right! well done. \\nAnd it only took you {guess_counter} goes.\")\n",
    "        print(film_dict[answer_with_year]['tags'])\n",
    "    elif guess == \"quit\":\n",
    "        print(f\"\\noh, it was {answer_raw}\")\n",
    "        break\n",
    "    elif guess ==\"hint\":\n",
    "        print(f\"this film features a... {random.choice(film_dict[answer_with_year]['tags'])}\")\n",
    "        guess_counter += 1\n",
    "    elif guess ==\"spoil\":\n",
    "        print(f\"\\nGet it in one or not at all: \\n{film_dict[answer_with_year]['tags']}\")\n",
    "        guess_counter += 1\n",
    "    else:\n",
    "        try:\n",
    "            common_tags = set(film_dict[guess]['tags']).intersection(film_dict[answer_with_year]['tags'])\n",
    "            similarity = round(len(common_tags)*100/(len(film_dict[answer_with_year]['tags'])))\n",
    "            print(f\"{similarity}% match! they share the following tags (repitions ommitted):\\n\")\n",
    "            print(common_tags.difference(tag_list))\n",
    "            tag_list = set(common_tags.union(tag_list))\n",
    "            progress = round(len(tag_list)*100/(len(film_dict[answer_with_year]['tags'])))\n",
    "            print(f\"\\nTotal progress: you have found {progress}% of the tags\")\n",
    "            guess_counter += 1\n",
    "        except KeyError:\n",
    "            print(\"Unknown film; check your SPAG and try again\")\n",
    "            \n"
   ]
  },
  {
   "cell_type": "code",
   "execution_count": 40,
   "id": "8cc32872",
   "metadata": {},
   "outputs": [
    {
     "data": {
      "text/plain": [
       "'pirates of the caribbean the curse of the black pearl (2003)'"
      ]
     },
     "execution_count": 40,
     "metadata": {},
     "output_type": "execute_result"
    }
   ],
   "source": [
    "answer_with_year"
   ]
  },
  {
   "cell_type": "code",
   "execution_count": 41,
   "id": "b8ce830d",
   "metadata": {},
   "outputs": [
    {
     "data": {
      "text/plain": [
       "'(2003)'"
      ]
     },
     "execution_count": 41,
     "metadata": {},
     "output_type": "execute_result"
    }
   ],
   "source": [
    "year"
   ]
  },
  {
   "cell_type": "code",
   "execution_count": 42,
   "id": "83517668",
   "metadata": {},
   "outputs": [
    {
     "data": {
      "text/plain": [
       "'pirates of the caribbean the curse of the black pearl'"
      ]
     },
     "execution_count": 42,
     "metadata": {},
     "output_type": "execute_result"
    }
   ],
   "source": [
    "answer"
   ]
  },
  {
   "cell_type": "code",
   "execution_count": 43,
   "id": "5dd2aa42",
   "metadata": {},
   "outputs": [
    {
     "data": {
      "text/plain": [
       "'Pirates of the Caribbean: The Curse of the Black Pearl'"
      ]
     },
     "execution_count": 43,
     "metadata": {},
     "output_type": "execute_result"
    }
   ],
   "source": [
    "answer_raw"
   ]
  },
  {
   "cell_type": "code",
   "execution_count": null,
   "id": "9323ceb4",
   "metadata": {},
   "outputs": [],
   "source": []
  },
  {
   "cell_type": "code",
   "execution_count": null,
   "id": "48917448",
   "metadata": {},
   "outputs": [],
   "source": []
  }
 ],
 "metadata": {
  "kernelspec": {
   "display_name": "Python 3 (ipykernel)",
   "language": "python",
   "name": "python3"
  },
  "language_info": {
   "codemirror_mode": {
    "name": "ipython",
    "version": 3
   },
   "file_extension": ".py",
   "mimetype": "text/x-python",
   "name": "python",
   "nbconvert_exporter": "python",
   "pygments_lexer": "ipython3",
   "version": "3.9.7"
  }
 },
 "nbformat": 4,
 "nbformat_minor": 5
}
